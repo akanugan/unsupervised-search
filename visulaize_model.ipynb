{
 "cells": [
  {
   "cell_type": "code",
   "execution_count": 3,
   "metadata": {},
   "outputs": [
    {
     "ename": "ModuleNotFoundError",
     "evalue": "No module named 'torchviz'",
     "output_type": "error",
     "traceback": [
      "\u001b[0;31m---------------------------------------------------------------------------\u001b[0m",
      "\u001b[0;31mModuleNotFoundError\u001b[0m                       Traceback (most recent call last)",
      "Cell \u001b[0;32mIn[3], line 2\u001b[0m\n\u001b[1;32m      1\u001b[0m \u001b[38;5;28;01mimport\u001b[39;00m \u001b[38;5;21;01mtorch\u001b[39;00m\n\u001b[0;32m----> 2\u001b[0m \u001b[38;5;28;01mfrom\u001b[39;00m \u001b[38;5;21;01mtorchviz\u001b[39;00m \u001b[38;5;28;01mimport\u001b[39;00m make_dot\n\u001b[1;32m      4\u001b[0m \u001b[38;5;66;03m# Create a dummy input tensor\u001b[39;00m\n\u001b[1;32m      5\u001b[0m input_tensor \u001b[38;5;241m=\u001b[39m torch\u001b[38;5;241m.\u001b[39mrandn(\u001b[38;5;241m1\u001b[39m, \u001b[38;5;241m5\u001b[39m)\n",
      "\u001b[0;31mModuleNotFoundError\u001b[0m: No module named 'torchviz'"
     ]
    }
   ],
   "source": [
    "import torch\n",
    "from torchviz import make_dot\n",
    "\n",
    "# Create a dummy input tensor\n",
    "input_tensor = torch.randn(1, 5)\n",
    "\n",
    "# Define the model architecture\n",
    "# Replace this with your actual model definition using the configuration file\n",
    "# Example:\n",
    "# model = YourModel(embed_input_dim, embed_dim, ...)\n",
    "model = {'model': {'encoder_config': {'embed_input_dim': 5, 'embed_dim': 32, 'embed_nlayers': 3, 'mlp_input_dim': 3, 'mlp_dim': 32, 'mlp_nlayers': 3, 'attn_blocks_n': 1, 'attn_block_num_heads': 4, 'attn_block_ffwd_on': True, 'attn_block_ffwd_nlayers': 3, 'attn_block_ffwd_dim': 32, 'out_dim': 2, 'mass_scale': 200, 'do_gumbel': False, 'do_vae': False, 'add_mass_feature': True, 'add_mass_latent': False, 'sync_rand': False, 'over_jet_count': True, 'random_mode': 'reverse_both', 'rand_cross_candidates': True, 'gumbel_softmax_config': {'tau': 1, 'hard': True}, 'doWij': True, 'ae_dim': 2, 'ae_depth': 4}, 'loss_config': {'scale_reco_loss': 1, 'scale_ISR_loss': 0.1, 'scale_random_loss': 0.1, 'scale_latent_loss': 0.1, 'scale_kld_loss': 0.1}, 'weights': False, 'lr': 0.001, 'L2': 0.001, 'update_learning_rate': True, 'tau_annealing': True}, 'batcher': {'minCparam': 0, 'minNjetsAbovePtCut': 0, 'minNjets': 0, 'split': [0.9, 0.1, 0.0], 'reweight': 0, 'eventSelection': '', 'teacher': False}, 'trainer': {'precision': 32, 'gradient_clip_val': 0.1}, 'batch_size': 2048}\n",
    "\n",
    "# Forward pass\n",
    "output = model(input_tensor)\n",
    "\n",
    "# Generate the graph\n",
    "make_dot(output, params=dict(model.named_parameters()))\n"
   ]
  },
  {
   "cell_type": "code",
   "execution_count": null,
   "metadata": {},
   "outputs": [],
   "source": []
  }
 ],
 "metadata": {
  "kernelspec": {
   "display_name": "multijets_env",
   "language": "python",
   "name": "python3"
  },
  "language_info": {
   "codemirror_mode": {
    "name": "ipython",
    "version": 3
   },
   "file_extension": ".py",
   "mimetype": "text/x-python",
   "name": "python",
   "nbconvert_exporter": "python",
   "pygments_lexer": "ipython3",
   "version": "3.11.6"
  }
 },
 "nbformat": 4,
 "nbformat_minor": 2
}
