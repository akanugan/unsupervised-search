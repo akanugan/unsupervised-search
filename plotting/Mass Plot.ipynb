{
 "cells": [
  {
   "cell_type": "code",
   "execution_count": 79,
   "id": "39edad57",
   "metadata": {},
   "outputs": [
    {
     "data": {
      "text/html": [
       "<style>.container { width:100% !important; }</style>"
      ],
      "text/plain": [
       "<IPython.core.display.HTML object>"
      ]
     },
     "metadata": {},
     "output_type": "display_data"
    }
   ],
   "source": [
    "from IPython.display import display, HTML\n",
    "display(HTML(\"<style>.container { width:100% !important; }</style>\"))\n",
    "\n",
    "import json\n",
    "import matplotlib.pyplot as plt\n",
    "from matplotlib.ticker import (MultipleLocator, AutoMinorLocator, FuncFormatter)\n",
    "from matplotlib.lines import Line2D\n",
    "import numpy as np\n",
    "\n",
    "import atlas_mpl_style as ampl\n",
    "ampl.use_atlas_style(usetex=True)\n",
    "ampl.set_color_cycle(\"Paper\", 6)"
   ]
  },
  {
   "cell_type": "code",
   "execution_count": 90,
   "id": "777307f8",
   "metadata": {},
   "outputs": [
    {
     "data": {
      "image/png": "[encoded data removed]",
      "text/plain": [
       "<Figure size 432x360 with 1 Axes>"
      ]
     },
     "metadata": {},
     "output_type": "display_data"
    }
   ],
   "source": [
    "# load the json\n",
    "inFile = \"/Users/anthonybadea/Documents/ATLAS/Pheno/unsupervised-search-paper/histdump.json\"\n",
    "with open(inFile, \"r\") as f:\n",
    "    dic = json.load(f)\n",
    "\n",
    "# pick up the bins and the y\n",
    "bins = dic['mass_plot']['bins']\n",
    "binW = bins[1]-bins[0]\n",
    "\n",
    "# make plot\n",
    "fig = plt.figure(figsize=(6, 5))\n",
    "ax = plt.axes([0.1, 0.1, 0.85, 0.85])\n",
    "\n",
    "lw=1.2\n",
    "rasterized = False\n",
    "\n",
    "# to plot precomputed bins\n",
    "ax.hist(bins[:-1], \n",
    "    bins, \n",
    "    weights=np.array(dic['mass_plot']['Bkg'])*binW,\n",
    "    alpha=1.0, \n",
    "    lw=lw,\n",
    "    histtype=\"step\",\n",
    "    label=\"Background\",\n",
    "    color=\"black\",\n",
    "    rasterized=rasterized)\n",
    "ax.hist(bins[:-1], \n",
    "    bins, \n",
    "    weights=np.array(dic['mass_plot']['GG_qSq_1500_700'])*binW,\n",
    "    alpha=1.0, \n",
    "    lw=lw,\n",
    "    histtype=\"step\",\n",
    "    label=r\"$X^{1500}\\rightarrow jY^{700} \\rightarrow j(jj)$\",\n",
    "    color=\"blue\",\n",
    "    rasterized=rasterized)\n",
    "ax.hist(bins[:-1], \n",
    "    bins, \n",
    "    weights=np.array(dic['mass_plot']['GG_qqN1_1500_1000'])*binW,\n",
    "    alpha=1.0, \n",
    "    lw=lw,\n",
    "    histtype=\"step\",\n",
    "    label=r\"$X^{1500}\\rightarrow jjY^{1000} \\rightarrow jj(jjj)$\",\n",
    "    color=\"orange\",\n",
    "    rasterized=rasterized)\n",
    "ax.hist(bins[:-1], \n",
    "    bins, \n",
    "    weights=np.array(dic['mass_plot']['TT_tN1_1500_1000'])*binW,\n",
    "    alpha=1.0, \n",
    "    lw=lw,\n",
    "    histtype=\"step\",\n",
    "    label=r\"$X^{1500}\\rightarrow jjjY^{1000} \\rightarrow jjj(jjj)$\",\n",
    "    color=\"green\",\n",
    "    rasterized=rasterized)\n",
    "ax.hist(bins[:-1], \n",
    "    bins, \n",
    "    weights=np.array(dic['mass_plot']['SqSq_TV_2000_1000'])*binW,\n",
    "    alpha=1.0, \n",
    "    lw=lw,\n",
    "    histtype=\"step\",\n",
    "    label=r\"$X^{2000}\\rightarrow jjY^{1000} \\rightarrow jj(jj)$\",\n",
    "    color=\"red\",\n",
    "    rasterized=rasterized)\n",
    "ax.hist(bins[:-1], \n",
    "    bins, \n",
    "    weights=np.array(dic['mass_plot']['SqSq_qN1_2000_1000'])*binW,\n",
    "    alpha=1.0, \n",
    "    lw=lw,\n",
    "    histtype=\"step\",\n",
    "    label=r\"$X^{2000}\\rightarrow jY^{1000} \\rightarrow j(jjj)$\",\n",
    "    color=\"purple\",\n",
    "    rasterized=rasterized)\n",
    "\n",
    "# enable legend\n",
    "handles, labels = ax.get_legend_handles_labels()\n",
    "new_handles = [Line2D([], [], c=h.get_edgecolor(), ls=h.get_linestyle()) for h in handles]\n",
    "ax.legend(new_handles,\n",
    "          labels,\n",
    "          title=\"\",\n",
    "          title_fontsize=\"13\",\n",
    "          ncol=1,\n",
    "          framealpha=0.0,\n",
    "          prop={'size': 10.4},\n",
    "          bbox_to_anchor=(0.54, 0.47, 0.45, 0.5),\n",
    "          handlelength=1.25)\n",
    "\n",
    "# set labels\n",
    "ax.set_xlabel(\"$\\mathit{m}$$_{avg}$ [GeV]\", fontsize=21, labelpad=9, horizontalalignment='right', x=1.0)\n",
    "ax.set_ylabel(\"Fraction of Events / 100 GeV\", fontsize=21, labelpad=9, horizontalalignment='right', y=1.0)\n",
    "\n",
    "# set limits\n",
    "ax.set_xlim(0,3500)\n",
    "ax.set_ylim(0, 0.22)\n",
    "\n",
    "# tick params\n",
    "tick_params_major = {\"which\"     : \"major\",\n",
    "                     \"length\"    : 10,\n",
    "                     \"width\"     : 1.25,\n",
    "                     \"direction\" : \"in\",\n",
    "                     \"right\"     : True,\n",
    "                     \"top\"       : True,\n",
    "                     \"labelsize\" : 17,\n",
    "                     \"pad\"       : 8}\n",
    "tick_params_minor = {\"which\"     : \"minor\",\n",
    "                     \"length\"    : 4,\n",
    "                     \"width\"     : 1,\n",
    "                     \"direction\" : \"in\",\n",
    "                     \"right\"     : True,\n",
    "                     \"top\"       : True,\n",
    "                     \"labelsize\" : 15}\n",
    "\n",
    "# ax.xaxis.set_minor_locator(AutoMinorLocator(5))\n",
    "# ax.yaxis.set_minor_locator(AutoMinorLocator(5))\n",
    "ax.tick_params(**tick_params_major)\n",
    "ax.tick_params(**tick_params_minor)\n",
    "plt.locator_params(axis='y', nbins=8)\n",
    "\n",
    "# save\n",
    "plt.savefig(\"mass_plot.pdf\", bbox_inches=\"tight\")"
   ]
  }
 ],
 "metadata": {
  "kernelspec": {
   "display_name": "Python 3 (ipykernel)",
   "language": "python",
   "name": "python3"
  },
  "language_info": {
   "codemirror_mode": {
    "name": "ipython",
    "version": 3
   },
   "file_extension": ".py",
   "mimetype": "text/x-python",
   "name": "python",
   "nbconvert_exporter": "python",
   "pygments_lexer": "ipython3",
   "version": "3.9.15"
  }
 },
 "nbformat": 4,
 "nbformat_minor": 5
}
